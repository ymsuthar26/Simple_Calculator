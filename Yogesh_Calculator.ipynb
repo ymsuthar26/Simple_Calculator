{
 "cells": [
  {
   "cell_type": "code",
   "execution_count": 1,
   "id": "d8a1eb97-be07-434b-bf64-3270f3da1b86",
   "metadata": {},
   "outputs": [
    {
     "name": "stdin",
     "output_type": "stream",
     "text": [
      "choose operation which u want to perform :  exit\n"
     ]
    }
   ],
   "source": [
    "while True:\n",
    "    z=input(\"choose operation which u want to perform : \")\n",
    "    if z.lower() == \"exit\" :\n",
    "        break\n",
    "    x=int(input(\" give first no :  \"))\n",
    "    y= int(input(\"give second no : \"))\n",
    "   \n",
    "    if z==\"+\":\n",
    "        print(x+y)\n",
    "    elif z==\"-\":\n",
    "        print(x-y)\n",
    "    elif z==\"*\":\n",
    "        print(x*y)\n",
    "    elif z==\"/\":\n",
    "        if y != 0:\n",
    "            print(x/y)\n",
    "        else :\n",
    "            print (\" division by zero not allowed\")\n",
    "    elif z==\"%\":\n",
    "        if y > 0 and x >= 0:\n",
    "            print((x*100)/y)\n",
    "        else :\n",
    "            print (\"ERROR\")\n",
    "    else :\n",
    "        print(\"invalid operation \")\n",
    "    \n",
    "        \n",
    "    "
   ]
  },
  {
   "cell_type": "code",
   "execution_count": null,
   "id": "e50a6333-770c-48a5-8730-93c1856d8041",
   "metadata": {},
   "outputs": [],
   "source": []
  }
 ],
 "metadata": {
  "kernelspec": {
   "display_name": "Python [conda env:base] *",
   "language": "python",
   "name": "conda-base-py"
  },
  "language_info": {
   "codemirror_mode": {
    "name": "ipython",
    "version": 3
   },
   "file_extension": ".py",
   "mimetype": "text/x-python",
   "name": "python",
   "nbconvert_exporter": "python",
   "pygments_lexer": "ipython3",
   "version": "3.12.7"
  }
 },
 "nbformat": 4,
 "nbformat_minor": 5
}
